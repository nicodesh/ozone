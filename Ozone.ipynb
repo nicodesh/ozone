{
 "cells": [
  {
   "cell_type": "markdown",
   "metadata": {},
   "source": [
    "# A little example of Linear Regression\n",
    "\n",
    "This project is an example of how using my Python LinReg Class.\n",
    "\n",
    "We'll see how the temperature at noon can help to predict the ozone value.\n",
    "\n",
    "---\n",
    "\n",
    "Data source: https://openclassrooms.com/fr/courses/4525326-realisez-des-modelisations-de-donnees-performantes/5754127-decouvrez-le-jeu-de-donnees-de-lozone"
   ]
  },
  {
   "cell_type": "code",
   "execution_count": 12,
   "metadata": {},
   "outputs": [],
   "source": [
    "import numpy as np\n",
    "import pandas as pd\n",
    "import matplotlib.pyplot as plt\n",
    "\n",
    "from sklearn.linear_model import LinearRegression\n",
    "from sklearn.metrics import r2_score\n",
    "from sklearn.feature_selection import f_regression\n",
    "import scipy.stats as st\n",
    "\n",
    "from descstats import MyPlot, Univa\n",
    "from modelstats import LinReg\n",
    "\n",
    "import warnings\n",
    "warnings.filterwarnings(action=\"ignore\", module=\"sklearn\", message=\"^internal gelsd\")"
   ]
  },
  {
   "cell_type": "code",
   "execution_count": 13,
   "metadata": {},
   "outputs": [
    {
     "data": {
      "text/html": [
       "<div>\n",
       "<style scoped>\n",
       "    .dataframe tbody tr th:only-of-type {\n",
       "        vertical-align: middle;\n",
       "    }\n",
       "\n",
       "    .dataframe tbody tr th {\n",
       "        vertical-align: top;\n",
       "    }\n",
       "\n",
       "    .dataframe thead th {\n",
       "        text-align: right;\n",
       "    }\n",
       "</style>\n",
       "<table border=\"1\" class=\"dataframe\">\n",
       "  <thead>\n",
       "    <tr style=\"text-align: right;\">\n",
       "      <th></th>\n",
       "      <th>obs</th>\n",
       "      <th>maxO3</th>\n",
       "      <th>T9</th>\n",
       "      <th>T12</th>\n",
       "      <th>T15</th>\n",
       "      <th>Ne9</th>\n",
       "      <th>Ne12</th>\n",
       "      <th>Ne15</th>\n",
       "      <th>Vx9</th>\n",
       "      <th>Vx12</th>\n",
       "      <th>Vx15</th>\n",
       "      <th>maxO3v</th>\n",
       "      <th>vent</th>\n",
       "      <th>pluie</th>\n",
       "    </tr>\n",
       "  </thead>\n",
       "  <tbody>\n",
       "    <tr>\n",
       "      <th>0</th>\n",
       "      <td>601</td>\n",
       "      <td>87</td>\n",
       "      <td>15,6</td>\n",
       "      <td>18,5</td>\n",
       "      <td>18,4</td>\n",
       "      <td>4</td>\n",
       "      <td>4</td>\n",
       "      <td>8</td>\n",
       "      <td>0,6946</td>\n",
       "      <td>-1,7101</td>\n",
       "      <td>-0,6946</td>\n",
       "      <td>84</td>\n",
       "      <td>Nord</td>\n",
       "      <td>Sec</td>\n",
       "    </tr>\n",
       "    <tr>\n",
       "      <th>1</th>\n",
       "      <td>602</td>\n",
       "      <td>82</td>\n",
       "      <td>17</td>\n",
       "      <td>18,4</td>\n",
       "      <td>17,7</td>\n",
       "      <td>5</td>\n",
       "      <td>5</td>\n",
       "      <td>7</td>\n",
       "      <td>-4,3301</td>\n",
       "      <td>-4</td>\n",
       "      <td>-3</td>\n",
       "      <td>87</td>\n",
       "      <td>Nord</td>\n",
       "      <td>Sec</td>\n",
       "    </tr>\n",
       "    <tr>\n",
       "      <th>2</th>\n",
       "      <td>603</td>\n",
       "      <td>92</td>\n",
       "      <td>15,3</td>\n",
       "      <td>17,6</td>\n",
       "      <td>19,5</td>\n",
       "      <td>2</td>\n",
       "      <td>5</td>\n",
       "      <td>4</td>\n",
       "      <td>2,9544</td>\n",
       "      <td>1,8794</td>\n",
       "      <td>0,5209</td>\n",
       "      <td>82</td>\n",
       "      <td>Est</td>\n",
       "      <td>Sec</td>\n",
       "    </tr>\n",
       "    <tr>\n",
       "      <th>3</th>\n",
       "      <td>604</td>\n",
       "      <td>114</td>\n",
       "      <td>16,2</td>\n",
       "      <td>19,7</td>\n",
       "      <td>22,5</td>\n",
       "      <td>1</td>\n",
       "      <td>1</td>\n",
       "      <td>0</td>\n",
       "      <td>0,9848</td>\n",
       "      <td>0,3473</td>\n",
       "      <td>-0,1736</td>\n",
       "      <td>92</td>\n",
       "      <td>Nord</td>\n",
       "      <td>Sec</td>\n",
       "    </tr>\n",
       "    <tr>\n",
       "      <th>4</th>\n",
       "      <td>605</td>\n",
       "      <td>94</td>\n",
       "      <td>17,4</td>\n",
       "      <td>20,5</td>\n",
       "      <td>20,4</td>\n",
       "      <td>8</td>\n",
       "      <td>8</td>\n",
       "      <td>7</td>\n",
       "      <td>-0,5</td>\n",
       "      <td>-2,9544</td>\n",
       "      <td>-4,3301</td>\n",
       "      <td>114</td>\n",
       "      <td>Ouest</td>\n",
       "      <td>Sec</td>\n",
       "    </tr>\n",
       "  </tbody>\n",
       "</table>\n",
       "</div>"
      ],
      "text/plain": [
       "   obs  maxO3    T9   T12   T15  Ne9  Ne12  Ne15      Vx9     Vx12     Vx15  \\\n",
       "0  601     87  15,6  18,5  18,4    4     4     8   0,6946  -1,7101  -0,6946   \n",
       "1  602     82    17  18,4  17,7    5     5     7  -4,3301       -4       -3   \n",
       "2  603     92  15,3  17,6  19,5    2     5     4   2,9544   1,8794   0,5209   \n",
       "3  604    114  16,2  19,7  22,5    1     1     0   0,9848   0,3473  -0,1736   \n",
       "4  605     94  17,4  20,5  20,4    8     8     7     -0,5  -2,9544  -4,3301   \n",
       "\n",
       "   maxO3v   vent pluie  \n",
       "0      84   Nord   Sec  \n",
       "1      87   Nord   Sec  \n",
       "2      82    Est   Sec  \n",
       "3      92   Nord   Sec  \n",
       "4     114  Ouest   Sec  "
      ]
     },
     "execution_count": 13,
     "metadata": {},
     "output_type": "execute_result"
    }
   ],
   "source": [
    "df = pd.read_csv(\"Data/ozone.txt\", sep=\";\")\n",
    "df.head()"
   ]
  },
  {
   "cell_type": "markdown",
   "metadata": {},
   "source": [
    "Data Description (in french):\n",
    "\n",
    "- obs : mois-jour ;\n",
    "- maxO3 : teneur maximale en ozone observée sur la journée (en μ\\gr/m3 )\n",
    "- T9, T12, T15 : température observée à 9 h, 12 h et 15 h\n",
    "- Ne9, 12, Ne15 : nébulosité observée à 9 h, 12 h et 15 h\n",
    "- Vx9, Vx12, Vx15 : composante est-ouest du vent à 9 h, 12 h et 15 h\n",
    "- maxO3v : teneur maximale en ozone observée la veille\n",
    "- vent : orientation du vent à 12 h\n",
    "- pluie : occurrence ou non de précipitations."
   ]
  },
  {
   "cell_type": "markdown",
   "metadata": {},
   "source": [
    "## Data Cleaning"
   ]
  },
  {
   "cell_type": "code",
   "execution_count": 14,
   "metadata": {},
   "outputs": [],
   "source": [
    "df['T9'] = df['T9'].apply(lambda x: x.replace(',', '.')).astype(float)\n",
    "df['T12'] = df['T12'].apply(lambda x: x.replace(',', '.')).astype(float)"
   ]
  },
  {
   "cell_type": "markdown",
   "metadata": {},
   "source": [
    "## Linear Regression"
   ]
  },
  {
   "cell_type": "code",
   "execution_count": 15,
   "metadata": {},
   "outputs": [
    {
     "data": {
      "image/png": "[encoded data removed]",
      "text/plain": [
       "<matplotlib.figure.Figure at 0x10c074d68>"
      ]
     },
     "metadata": {},
     "output_type": "display_data"
    }
   ],
   "source": [
    "x = df['T12']\n",
    "y = df['maxO3']\n",
    "\n",
    "linreg = LinReg(x,y)\n",
    "linreg.plot()"
   ]
  },
  {
   "cell_type": "markdown",
   "metadata": {},
   "source": [
    "## Residuals distribution"
   ]
  },
  {
   "cell_type": "code",
   "execution_count": 9,
   "metadata": {},
   "outputs": [
    {
     "data": {
      "text/html": [
       "<div>\n",
       "<style scoped>\n",
       "    .dataframe tbody tr th:only-of-type {\n",
       "        vertical-align: middle;\n",
       "    }\n",
       "\n",
       "    .dataframe tbody tr th {\n",
       "        vertical-align: top;\n",
       "    }\n",
       "\n",
       "    .dataframe thead th {\n",
       "        text-align: right;\n",
       "    }\n",
       "</style>\n",
       "<table border=\"1\" class=\"dataframe\">\n",
       "  <thead>\n",
       "    <tr style=\"text-align: right;\">\n",
       "      <th></th>\n",
       "      <th>maxO3</th>\n",
       "    </tr>\n",
       "  </thead>\n",
       "  <tbody>\n",
       "    <tr>\n",
       "      <th>Sample Size</th>\n",
       "      <td>112</td>\n",
       "    </tr>\n",
       "    <tr>\n",
       "      <th>Total</th>\n",
       "      <td>0</td>\n",
       "    </tr>\n",
       "    <tr>\n",
       "      <th>Min</th>\n",
       "      <td>-38.078905178865824</td>\n",
       "    </tr>\n",
       "    <tr>\n",
       "      <th>Max</th>\n",
       "      <td>44.67140745755263</td>\n",
       "    </tr>\n",
       "    <tr>\n",
       "      <th>Mode</th>\n",
       "      <td>23</td>\n",
       "    </tr>\n",
       "    <tr>\n",
       "      <th>Mean</th>\n",
       "      <td>0</td>\n",
       "    </tr>\n",
       "    <tr>\n",
       "      <th>Median</th>\n",
       "      <td>0</td>\n",
       "    </tr>\n",
       "    <tr>\n",
       "      <th>Variance (σ²)</th>\n",
       "      <td>305.84</td>\n",
       "    </tr>\n",
       "    <tr>\n",
       "      <th>Standard Deviation (σ)</th>\n",
       "      <td>17.49</td>\n",
       "    </tr>\n",
       "    <tr>\n",
       "      <th>Coefficient of variation (CV)</th>\n",
       "      <td>2600558418072417.00</td>\n",
       "    </tr>\n",
       "    <tr>\n",
       "      <th>Skewness</th>\n",
       "      <td>0.20</td>\n",
       "    </tr>\n",
       "    <tr>\n",
       "      <th>Kurtosis</th>\n",
       "      <td>-0.30</td>\n",
       "    </tr>\n",
       "  </tbody>\n",
       "</table>\n",
       "</div>"
      ],
      "text/plain": [
       "                                             maxO3\n",
       "Sample Size                                    112\n",
       "Total                                            0\n",
       "Min                            -38.078905178865824\n",
       "Max                              44.67140745755263\n",
       "Mode                                            23\n",
       "Mean                                             0\n",
       "Median                                           0\n",
       "Variance (σ²)                               305.84\n",
       "Standard Deviation (σ)                       17.49\n",
       "Coefficient of variation (CV)  2600558418072417.00\n",
       "Skewness                                      0.20\n",
       "Kurtosis                                     -0.30"
      ]
     },
     "metadata": {},
     "output_type": "display_data"
    },
    {
     "data": {
      "image/png": "[encoded data removed]",
      "text/plain": [
       "<matplotlib.figure.Figure at 0x1025afcf8>"
      ]
     },
     "metadata": {},
     "output_type": "display_data"
    }
   ],
   "source": [
    "linreg.residuals_distribution()"
   ]
  },
  {
   "cell_type": "code",
   "execution_count": 4,
   "metadata": {},
   "outputs": [
    {
     "name": "stdout",
     "output_type": "stream",
     "text": [
      "Scipy Stats\n",
      "5.4686848674128195\n",
      "-27.419635851181326\n",
      "0.4124939143453358\n",
      "1.5120248186788766e-24\n",
      "0.7842623297628883\n",
      "\n",
      "Scikit Learn\n",
      "[5.46868487]\n",
      "-27.419635851181326\n",
      "0.6150674018851134\n",
      "\n",
      "Prediction\n",
      "[76.48537663]\n"
     ]
    }
   ],
   "source": [
    "# Scipy Stats metrics\n",
    "print(\"Scipy Stats\")\n",
    "print(linreg.st_slope)\n",
    "print(linreg.st_intercept)\n",
    "print(linreg.st_stderr)\n",
    "print(linreg.st_pvalue)\n",
    "print(linreg.st_rvalue)\n",
    "print(\"\")\n",
    "\n",
    "# Scikit Learn metrics\n",
    "print(\"Scikit Learn\")\n",
    "print(linreg.sklearn_coef)\n",
    "print(linreg.sklearn_intercept)\n",
    "print(linreg.r2)\n",
    "print(\"\")\n",
    "\n",
    "# Compute a prediction\n",
    "print(\"Prediction\")\n",
    "print(linreg.sklearn_lr.predict(19))"
   ]
  }
 ],
 "metadata": {
  "kernelspec": {
   "display_name": "Python 3",
   "language": "python",
   "name": "python3"
  },
  "language_info": {
   "codemirror_mode": {
    "name": "ipython",
    "version": 3
   },
   "file_extension": ".py",
   "mimetype": "text/x-python",
   "name": "python",
   "nbconvert_exporter": "python",
   "pygments_lexer": "ipython3",
   "version": "3.6.5"
  }
 },
 "nbformat": 4,
 "nbformat_minor": 2
}
